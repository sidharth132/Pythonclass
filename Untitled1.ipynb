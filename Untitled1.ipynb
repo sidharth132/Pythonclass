{
 "cells": [
  {
   "cell_type": "code",
   "execution_count": 3,
   "metadata": {},
   "outputs": [
    {
     "name": "stdout",
     "output_type": "stream",
     "text": [
      "Enter 1st number:12\n",
      "enter 2nd number :4\n",
      " 1st greater no is : 12\n"
     ]
    }
   ],
   "source": [
    "a=int(input('Enter 1st number:'))\n",
    "b=int(input(\"enter 2nd number :\"))\n",
    "if a>b:\n",
    "    print(' 1st greater no is :',a)\n",
    "else:\n",
    "    print('2nd no is :',b)"
   ]
  },
  {
   "cell_type": "code",
   "execution_count": 20,
   "metadata": {},
   "outputs": [
    {
     "name": "stdout",
     "output_type": "stream",
     "text": [
      "Enter 1st number:3\n",
      "enter 2nd number :8\n",
      "Enter 3rd number :1\n",
      "Greater 2nd number is : 8\n"
     ]
    }
   ],
   "source": [
    "a=int(input('Enter 1st number:'))\n",
    "b=int(input(\"enter 2nd number :\"))\n",
    "c=int(input(\"Enter 3rd number :\"))\n",
    "if a>b  :\n",
    "    print(\"Greater 1st number is :\",a)\n",
    "elif b>c:\n",
    "    print(\"Greater 2nd number is :\",b)\n",
    "elif  c>a:\n",
    "    print(\"Greater 3rd number is \",c)\n",
    " \n"
   ]
  },
  {
   "cell_type": "code",
   "execution_count": 5,
   "metadata": {},
   "outputs": [
    {
     "name": "stdout",
     "output_type": "stream",
     "text": [
      "enter foo /bar : foo\n",
      "bar\n"
     ]
    }
   ],
   "source": [
    "a = input('enter foo /bar : ').strip().lower()\n",
    "a = ''.join(a.split())\n",
    "\n",
    "if a == 'foo':\n",
    "    print('bar')\n",
    "elif a == 'bar':\n",
    "    print('foo')\n",
    "else:\n",
    "    print('foo | bar\"')"
   ]
  },
  {
   "cell_type": "code",
   "execution_count": 8,
   "metadata": {},
   "outputs": [
    {
     "name": "stdout",
     "output_type": "stream",
     "text": [
      "enter foo /bar : bar\n",
      "foo\n"
     ]
    }
   ],
   "source": [
    "a = input('enter foo /bar : ').strip().lower()\n",
    "\n",
    "\n",
    "if a == 'foo':\n",
    "    print('bar')\n",
    "elif a == 'bar':\n",
    "    print('foo')\n",
    "else:\n",
    "    print('foo | bar\"')"
   ]
  },
  {
   "cell_type": "code",
   "execution_count": 2,
   "metadata": {},
   "outputs": [
    {
     "name": "stdout",
     "output_type": "stream",
     "text": [
      " Enter the number0\n",
      "Enter no is false\n"
     ]
    }
   ],
   "source": [
    "n=int(input(\" Enter the number\" ))\n",
    "if n==1:\n",
    "    print(\"Jan\")\n",
    "elif n==2:\n",
    "    print(\"Feb\")\n",
    "elif n==3:\n",
    "    print(\"mar\")\n",
    "elif n==4:\n",
    "    print(\"Apr\")\n",
    "elif n==5:\n",
    "    print(\"May\")\n",
    "elif n==6:\n",
    "    print(\"Jun\")\n",
    "elif n==7:\n",
    "    print(\"jul\")\n",
    "elif n==8:\n",
    "    print(\"aug\")\n",
    "elif n==9:\n",
    "    print(\"Sept\")\n",
    "elif n==10:\n",
    "    print(\"oct\")\n",
    "elif n==11:\n",
    "    print(\"nov\")\n",
    "elif n==12:\n",
    "    print(\"Dec\")\n",
    "else:\n",
    "    print(\"Enter no is false\")"
   ]
  },
  {
   "cell_type": "code",
   "execution_count": 5,
   "metadata": {},
   "outputs": [
    {
     "name": "stdout",
     "output_type": "stream",
     "text": [
      "Enter a number12\n",
      "Enter b number3\n",
      "15 9 36 4.0 0 "
     ]
    }
   ],
   "source": [
    "a=int(input(\"Enter a number\"))\n",
    "b=int(input(\"Enter b number\"))\n",
    "c=a+b\n",
    "d=a-b\n",
    "e=a*b\n",
    "f=a/b\n",
    "g=a%b\n",
    "print(c,d,e,f,g,end=\" \")\n"
   ]
  },
  {
   "cell_type": "code",
   "execution_count": 5,
   "metadata": {},
   "outputs": [
    {
     "name": "stdout",
     "output_type": "stream",
     "text": [
      "Enter a number12\n",
      "Enter b number4\n",
      "Enter a operator +,-,*,%,/,**/\n",
      "3.0\n"
     ]
    }
   ],
   "source": [
    "a=int(input(\"Enter a number\"))\n",
    "b=int(input(\"Enter b number\"))\n",
    "c=input(\"Enter a operator +,-,*,%,/,**\")\n",
    "if c==\"+\":\n",
    "    print(a+b)\n",
    "elif c==\"-\":\n",
    "    print(a-b)\n",
    "elif c==\"*\":\n",
    "    print(a*b)\n",
    "elif c==\"/\":\n",
    "    print(a/b)\n",
    "elif c==\"%\":\n",
    "    print(a%b)\n",
    "else:\n",
    "    print(a**b)"
   ]
  },
  {
   "cell_type": "code",
   "execution_count": 15,
   "metadata": {},
   "outputs": [
    {
     "name": "stdout",
     "output_type": "stream",
     "text": [
      "Enter a number2016\n",
      "given no is leap year\n"
     ]
    }
   ],
   "source": [
    "a=int(input(\"Enter a number\"))\n",
    "if a%4==0 :\n",
    "    if a%400==0:\n",
    "        if a%100==0:\n",
    "            print(\"Given no is  not leap year\")\n",
    "        else:\n",
    "            print (\"Given no is leap year\")\n",
    "    else:\n",
    "        print(\"given no is leap year\")\n",
    "else:\n",
    "    print(\"given no is leap year\")"
   ]
  },
  {
   "cell_type": "code",
   "execution_count": 5,
   "metadata": {},
   "outputs": [
    {
     "name": "stdout",
     "output_type": "stream",
     "text": [
      "enter foo /bar : f g wq hu w \n",
      "foo | bar\"\n"
     ]
    }
   ],
   "source": [
    "a = input('enter foo /bar : ').strip().lower()\n",
    "a = ''.join(a.split())\n",
    "\n",
    "if a == 'foo':\n",
    "    print('bar')\n",
    "elif a == 'bar':\n",
    "    print('foo')\n",
    "else:\n",
    "    print('foo | bar\"')"
   ]
  },
  {
   "cell_type": "code",
   "execution_count": 8,
   "metadata": {},
   "outputs": [
    {
     "name": "stdout",
     "output_type": "stream",
     "text": [
      "enter a number : 2\n",
      "the below months are : jan\n",
      "the given month is : feb\n",
      "the above months are : mar apr may june july aug sept oct nov dec\n"
     ]
    }
   ],
   "source": [
    "a = ['jan','feb','mar','apr','may','june','july','aug','sept','oct','nov','dec']\n",
    "\n",
    "num = int(input('enter a number : '))\n",
    "if num >=1  and  num <= 12:\n",
    "    print('the below months are :',*a[:num-1])\n",
    "    print('the given month is :',a[num-1])\n",
    "    print('the above months are :',*a[num:])\n",
    "else:\n",
    "    print('plz give valid input')"
   ]
  },
  {
   "cell_type": "code",
   "execution_count": null,
   "metadata": {},
   "outputs": [],
   "source": [
    "while True:\n",
    "    num = int(input('enter a number : '))\n",
    "    print('the square of given number is : ',num**2)\n",
    "    if input('press any key to continue : '):\n",
    "        continue\n",
    "    else:\n",
    "        print('i am useless now')\n",
    "        break"
   ]
  }
 ],
 "metadata": {
  "kernelspec": {
   "display_name": "Python 3",
   "language": "python",
   "name": "python3"
  },
  "language_info": {
   "codemirror_mode": {
    "name": "ipython",
    "version": 3
   },
   "file_extension": ".py",
   "mimetype": "text/x-python",
   "name": "python",
   "nbconvert_exporter": "python",
   "pygments_lexer": "ipython3",
   "version": "3.6.5"
  }
 },
 "nbformat": 4,
 "nbformat_minor": 2
}
